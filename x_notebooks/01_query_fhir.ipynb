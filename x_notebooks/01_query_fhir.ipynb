{
 "cells": [
  {
   "metadata": {
    "ExecuteTime": {
     "end_time": "2025-07-27T18:02:51.432788Z",
     "start_time": "2025-07-27T18:02:51.416051Z"
    }
   },
   "cell_type": "code",
   "source": [
    "from src.core.fhir_query_builder import build_query\n",
    "from src.fhir.client            import fetch_fhir_resources\n",
    "from src.core.summarizer        import summarize_fhir_bundle\n",
    "\n",
    "path   = build_query([\"Observation\"], {\"patient\": \"emily\"})\n",
    "bundle = fetch_fhir_resources(path)\n",
    "print(summarize_fhir_bundle(bundle))\n"
   ],
   "id": "2275928744bc45c3",
   "outputs": [
    {
     "ename": "ValueError",
     "evalue": "FHIR_BASE_URL not set in environment",
     "output_type": "error",
     "traceback": [
      "\u001B[0;31m---------------------------------------------------------------------------\u001B[0m",
      "\u001B[0;31mValueError\u001B[0m                                Traceback (most recent call last)",
      "Cell \u001B[0;32mIn[13], line 5\u001B[0m\n\u001B[1;32m      2\u001B[0m \u001B[38;5;28;01mfrom\u001B[39;00m\u001B[38;5;250m \u001B[39m\u001B[38;5;21;01msrc\u001B[39;00m\u001B[38;5;21;01m.\u001B[39;00m\u001B[38;5;21;01mfhir\u001B[39;00m\u001B[38;5;21;01m.\u001B[39;00m\u001B[38;5;21;01mclient\u001B[39;00m\u001B[38;5;250m            \u001B[39m\u001B[38;5;28;01mimport\u001B[39;00m fetch_fhir_resources\n\u001B[1;32m      3\u001B[0m \u001B[38;5;28;01mfrom\u001B[39;00m\u001B[38;5;250m \u001B[39m\u001B[38;5;21;01msrc\u001B[39;00m\u001B[38;5;21;01m.\u001B[39;00m\u001B[38;5;21;01mcore\u001B[39;00m\u001B[38;5;21;01m.\u001B[39;00m\u001B[38;5;21;01msummarizer\u001B[39;00m\u001B[38;5;250m        \u001B[39m\u001B[38;5;28;01mimport\u001B[39;00m summarize_fhir_bundle\n\u001B[0;32m----> 5\u001B[0m path   \u001B[38;5;241m=\u001B[39m \u001B[43mbuild_query\u001B[49m\u001B[43m(\u001B[49m\u001B[43m[\u001B[49m\u001B[38;5;124;43m\"\u001B[39;49m\u001B[38;5;124;43mObservation\u001B[39;49m\u001B[38;5;124;43m\"\u001B[39;49m\u001B[43m]\u001B[49m\u001B[43m,\u001B[49m\u001B[43m \u001B[49m\u001B[43m{\u001B[49m\u001B[38;5;124;43m\"\u001B[39;49m\u001B[38;5;124;43mpatient\u001B[39;49m\u001B[38;5;124;43m\"\u001B[39;49m\u001B[43m:\u001B[49m\u001B[43m \u001B[49m\u001B[38;5;124;43m\"\u001B[39;49m\u001B[38;5;124;43memily\u001B[39;49m\u001B[38;5;124;43m\"\u001B[39;49m\u001B[43m}\u001B[49m\u001B[43m)\u001B[49m\n\u001B[1;32m      6\u001B[0m bundle \u001B[38;5;241m=\u001B[39m fetch_fhir_resources(path)\n\u001B[1;32m      7\u001B[0m \u001B[38;5;28mprint\u001B[39m(summarize_fhir_bundle(bundle))\n",
      "File \u001B[0;32m~/Desktop/reasoning_medical_model/EMPATHICA_Backend/src/core/fhir_query_builder.py:49\u001B[0m, in \u001B[0;36mbuild_query\u001B[0;34m(resource_types, filters)\u001B[0m\n\u001B[1;32m     39\u001B[0m \u001B[38;5;250m\u001B[39m\u001B[38;5;124;03m\"\"\"\u001B[39;00m\n\u001B[1;32m     40\u001B[0m \u001B[38;5;124;03mGiven a list of FHIR resource types (e.g. ['Observation']) and a dict of filters,\u001B[39;00m\n\u001B[1;32m     41\u001B[0m \u001B[38;5;124;03mreturn the full GET URL for the FHIR server.\u001B[39;00m\n\u001B[0;32m   (...)\u001B[0m\n\u001B[1;32m     46\u001B[0m \u001B[38;5;124;03m    'category': 'vital-signs' }\u001B[39;00m\n\u001B[1;32m     47\u001B[0m \u001B[38;5;124;03m\"\"\"\u001B[39;00m\n\u001B[1;32m     48\u001B[0m \u001B[38;5;28;01mif\u001B[39;00m \u001B[38;5;129;01mnot\u001B[39;00m FHIR_BASE_URL:\n\u001B[0;32m---> 49\u001B[0m     \u001B[38;5;28;01mraise\u001B[39;00m \u001B[38;5;167;01mValueError\u001B[39;00m(\u001B[38;5;124m\"\u001B[39m\u001B[38;5;124mFHIR_BASE_URL not set in environment\u001B[39m\u001B[38;5;124m\"\u001B[39m)\n\u001B[1;32m     51\u001B[0m resource \u001B[38;5;241m=\u001B[39m resource_types[\u001B[38;5;241m0\u001B[39m]\n\u001B[1;32m     52\u001B[0m params: Dict[\u001B[38;5;28mstr\u001B[39m, \u001B[38;5;28mstr\u001B[39m] \u001B[38;5;241m=\u001B[39m {}\n",
      "\u001B[0;31mValueError\u001B[0m: FHIR_BASE_URL not set in environment"
     ]
    }
   ],
   "execution_count": 13
  },
  {
   "metadata": {},
   "cell_type": "code",
   "outputs": [],
   "execution_count": null,
   "source": "",
   "id": "8963606402514add"
  }
 ],
 "metadata": {
  "kernelspec": {
   "name": "python3",
   "language": "python",
   "display_name": "Python 3 (ipykernel)"
  }
 },
 "nbformat": 5,
 "nbformat_minor": 9
}
